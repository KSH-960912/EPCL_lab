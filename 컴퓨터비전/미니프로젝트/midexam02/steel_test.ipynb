{
 "cells": [
  {
   "cell_type": "code",
   "execution_count": 10,
   "metadata": {},
   "outputs": [],
   "source": [
    "%run steel.ipynb"
   ]
  },
  {
   "cell_type": "code",
   "execution_count": 11,
   "metadata": {},
   "outputs": [
    {
     "name": "stdout",
     "output_type": "stream",
     "text": [
      "Epoch 20: loss=15.078, accuracy, precision, recall, F1=0.562,0.152,0.453,0.228\n",
      "Epoch 40: loss=15.509, accuracy, precision, recall, F1=0.386,0.118,0.509,0.192\n",
      "Epoch 60: loss=15.331, accuracy, precision, recall, F1=0.397,0.129,0.563,0.210\n",
      "Epoch 80: loss=15.242, accuracy, precision, recall, F1=0.516,0.131,0.425,0.200\n",
      "Epoch 100: loss=14.989, accuracy, precision, recall, F1=0.482,0.187,0.783,0.301\n",
      "Epoch 120: loss=15.554, accuracy, precision, recall, F1=0.446,0.189,0.875,0.311\n",
      "Epoch 140: loss=15.568, accuracy, precision, recall, F1=0.550,0.193,0.678,0.301\n",
      "Epoch 160: loss=15.360, accuracy, precision, recall, F1=0.405,0.155,0.714,0.255\n",
      "Epoch 180: loss=15.256, accuracy, precision, recall, F1=0.540,0.217,0.849,0.345\n",
      "Epoch 200: loss=15.152, accuracy, precision, recall, F1=0.640,0.258,0.811,0.392\n",
      "\n",
      "Final Test: final accuracy, precision, recall, F1 = 0.640,0.258,0.811,0.392\n"
     ]
    }
   ],
   "source": [
    "steel_exec()"
   ]
  },
  {
   "cell_type": "code",
   "execution_count": 12,
   "metadata": {},
   "outputs": [
    {
     "name": "stdout",
     "output_type": "stream",
     "text": [
      "Epoch 20: loss=15.479, accuracy, precision, recall, F1=0.561,0.222,0.829,0.350\n",
      "Epoch 40: loss=15.940, accuracy, precision, recall, F1=0.543,0.214,0.821,0.339\n",
      "Epoch 60: loss=15.762, accuracy, precision, recall, F1=0.414,0.099,0.381,0.157\n",
      "Epoch 80: loss=15.316, accuracy, precision, recall, F1=0.485,0.155,0.586,0.245\n",
      "Epoch 100: loss=15.405, accuracy, precision, recall, F1=0.532,0.199,0.749,0.314\n",
      "Epoch 120: loss=15.004, accuracy, precision, recall, F1=0.466,0.142,0.542,0.225\n",
      "Epoch 140: loss=15.613, accuracy, precision, recall, F1=0.502,0.175,0.670,0.278\n",
      "Epoch 160: loss=15.568, accuracy, precision, recall, F1=0.554,0.217,0.816,0.343\n",
      "Epoch 180: loss=15.375, accuracy, precision, recall, F1=0.472,0.167,0.675,0.268\n",
      "Epoch 200: loss=14.885, accuracy, precision, recall, F1=0.571,0.212,0.739,0.330\n",
      "\n",
      "Final Test: final accuracy, precision, recall, F1 = 0.571,0.212,0.739,0.330\n"
     ]
    }
   ],
   "source": [
    "LEARNING_RATE = 0.0001\n",
    "steel_exec()"
   ]
  },
  {
   "cell_type": "code",
   "execution_count": null,
   "metadata": {},
   "outputs": [],
   "source": []
  }
 ],
 "metadata": {
  "kernelspec": {
   "display_name": "Python 3",
   "language": "python",
   "name": "python3"
  },
  "language_info": {
   "codemirror_mode": {
    "name": "ipython",
    "version": 3
   },
   "file_extension": ".py",
   "mimetype": "text/x-python",
   "name": "python",
   "nbconvert_exporter": "python",
   "pygments_lexer": "ipython3",
   "version": "3.7.10"
  }
 },
 "nbformat": 4,
 "nbformat_minor": 2
}

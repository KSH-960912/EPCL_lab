{
 "cells": [
  {
   "cell_type": "code",
   "execution_count": 1,
   "metadata": {},
   "outputs": [],
   "source": [
    "%run abalone_adult.ipynb"
   ]
  },
  {
   "cell_type": "code",
   "execution_count": 2,
   "metadata": {},
   "outputs": [
    {
     "name": "stdout",
     "output_type": "stream",
     "text": [
      "Epoch 50: loss=0.548, accuracy=0.735/0.703\n",
      "Epoch 100: loss=0.526, accuracy=0.737/0.713\n",
      "Epoch 150: loss=0.520, accuracy=0.736/0.722\n",
      "Epoch 200: loss=0.516, accuracy=0.737/0.719\n",
      "Epoch 250: loss=0.514, accuracy=0.738/0.720\n",
      "Epoch 300: loss=0.511, accuracy=0.740/0.723\n",
      "Epoch 350: loss=0.509, accuracy=0.743/0.723\n",
      "Epoch 400: loss=0.507, accuracy=0.743/0.723\n",
      "Epoch 450: loss=0.505, accuracy=0.746/0.722\n",
      "Epoch 500: loss=0.504, accuracy=0.747/0.720\n",
      "\n",
      "Final Test: final accuracy = 0.720\n"
     ]
    }
   ],
   "source": [
    "abalone_adult_exec()"
   ]
  },
  {
   "cell_type": "code",
   "execution_count": null,
   "metadata": {},
   "outputs": [],
   "source": []
  }
 ],
 "metadata": {
  "kernelspec": {
   "display_name": "Python 3",
   "language": "python",
   "name": "python3"
  },
  "language_info": {
   "codemirror_mode": {
    "name": "ipython",
    "version": 3
   },
   "file_extension": ".py",
   "mimetype": "text/x-python",
   "name": "python",
   "nbconvert_exporter": "python",
   "pygments_lexer": "ipython3",
   "version": "3.7.10"
  }
 },
 "nbformat": 4,
 "nbformat_minor": 2
}
